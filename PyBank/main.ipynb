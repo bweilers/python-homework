{
 "cells": [
  {
   "cell_type": "code",
   "execution_count": 19,
   "id": "6482fef4-f118-439a-99e5-5c9413d2319b",
   "metadata": {},
   "outputs": [],
   "source": [
    "\"\"\"\n",
    "The following code analyzes the financial records of a fictional company\n",
    "Code uses 'csv' library to read the data contained in 'budget_data.csv'\n",
    "\"\"\"\n",
    "\n",
    "\n",
    "import csv"
   ]
  },
  {
   "cell_type": "code",
   "execution_count": 26,
   "id": "d6f3bcb9-8b7f-4f49-994a-89c04e6c2fa2",
   "metadata": {},
   "outputs": [],
   "source": [
    "# intializing the variables\n",
    "total_months = 0\n",
    "total_rev = 0\n",
    "month_list = []\n",
    "profit_loss_list = []\n",
    "\n",
    "\n",
    "\n",
    "\"\"\"\n",
    "def is_a_month(data):\n",
    "\n",
    "\"\"\"\n",
    "\n",
    "\n",
    "#opening and reading the data contained in 'budget_data.csv'\n",
    "with open(\"budget_data.csv\", mode = 'r') as file:\n",
    "    csvFile = csv.reader(file)\n",
    "\n",
    "    #looping through each line of data from 'budget_data.csv' stored in csvFile\n",
    "    for line in csvFile:\n",
    "        #counting the months with a conditional\n",
    "        #uses nested list slicing \n",
    "        if line[0][:3] in ['Jan', 'Feb', 'Mar', 'Apr', 'May', 'Jun', 'Jul', 'Aug', 'Sep', 'Oct', 'Nov', 'Dec']:\n",
    "            #to determine if the data should be counted as a month\n",
    "            total_months += 1\n",
    "            #then adds the month to a seperate list that will be used later to reference greatest increase and decrease\n",
    "            month_list.append(line[0])            \n",
    "            \n",
    "        #adding up the monthly revenue\n",
    "        #uses try/execpt because all data that is not an int should not be counted\n",
    "        try: \n",
    "            monthly_rev = int(line[1])\n",
    "            total_rev += monthly_rev\n",
    "        except ValueError:\n",
    "            pass\n",
    "\n",
    "        #create a revenue list that aids in pulling figures and referencing months for total rev, average change, greatest increase, and greatest decrease\n",
    "        #uses try/execpt because all data that is not an int should not be counted\n",
    "        try: \n",
    "            monthly_rev = int(line[1])\n",
    "            profit_loss_list.append(monthly_rev)\n",
    "        except ValueError:\n",
    "            pass        \n",
    "  \n",
    "        \n",
    "# print(f\"total months : {total_months}\")\n",
    "# print(f\"total rev: {total_rev}\")  \n",
    "# print(f\"month list : {month_list}\")\n",
    "# print(f\"profit loss list: {profit_loss_list}\")"
   ]
  },
  {
   "cell_type": "code",
   "execution_count": 21,
   "id": "b37db90d-4496-47f7-b605-e83653dfd7c5",
   "metadata": {},
   "outputs": [],
   "source": [
    "\"\"\"\n",
    "#now that I have values in a list\n",
    "##compar changes\n",
    "###pull the anwswers using the index\n",
    "\"\"\"\n",
    "\n",
    "# initializes a new list that will store change in revenue from the previous month\n",
    "change_month_to_month = []\n",
    "\n",
    "# preveious_month is a new list that will be used to calculate the change in revenue\n",
    "previous_month = [0] + profit_loss_list\n",
    "index = 0\n",
    "\n",
    "# loops through profit_loss_list to determine\n",
    "for month in profit_loss_list:\n",
    "    change = month - previous_month[index]\n",
    "    change_month_to_month.append(change)\n",
    "    index += 1   "
   ]
  },
  {
   "cell_type": "code",
   "execution_count": 22,
   "id": "f26fa5a7-c333-4977-a46b-7fdd584a4aa3",
   "metadata": {},
   "outputs": [],
   "source": [
    "\"\"\"\n",
    "Calculate the Average Change\n",
    "\"\"\"\n",
    "\n",
    "# intializes total to be used in the loop below\n",
    "total = 0\n",
    "\n",
    "# loops through find the total\n",
    "# starts at index one to ignore the first month\n",
    "for month in change_month_to_month[1:]:\n",
    "    total += month\n",
    "\n",
    "#calculates average_change    \n",
    "average_change = total/(len(change_month_to_month)-1)\n",
    "#formats the average in two decimals per conventional USD formatting\n",
    "formated_average = \"{:.2f}\".format(average_change)"
   ]
  },
  {
   "cell_type": "code",
   "execution_count": 23,
   "id": "31982c8c-0d55-4aac-8260-0fcf301f79c7",
   "metadata": {},
   "outputs": [],
   "source": [
    "\"\"\"\n",
    "Greatest Increase\n",
    "\"\"\"\n",
    "\n",
    "# stores the greatest increase in profit_increase\n",
    "profit_increase = max(change_month_to_month)\n",
    "\n",
    "#Pulls the month data by corresponding index\n",
    "max_increase_index = change_month_to_month.index(profit_increase)\n",
    "max_increase_month = month_list[max_increase_index]"
   ]
  },
  {
   "cell_type": "code",
   "execution_count": 24,
   "id": "2f72b6e7-370c-4dee-a8a3-abe9053fffbe",
   "metadata": {},
   "outputs": [],
   "source": [
    "\"\"\"\n",
    "Greatest Decrease\n",
    "\"\"\"\n",
    "\n",
    "# stores the greatest decrease in profit_increase\n",
    "profit_decrease = min(change_month_to_month)\n",
    "\n",
    "#Pulls the monthy by corresponding index\n",
    "max_decrease_index = change_month_to_month.index(profit_decrease)\n",
    "max_decrease_month = month_list[max_decrease_index]"
   ]
  },
  {
   "cell_type": "code",
   "execution_count": 25,
   "id": "5ce06fbc-fd85-4939-9fe2-e46ab9b6541a",
   "metadata": {},
   "outputs": [
    {
     "name": "stdout",
     "output_type": "stream",
     "text": [
      "Financial Analysis\n",
      "\n",
      "----------------------------\n",
      "\n",
      "Total Months: 86\n",
      "\n",
      "Total: $38382578\n",
      "\n",
      "Average Change: $-2315.12\n",
      "\n",
      "Greatest Increase in Profits: Feb-2012 ($1926159)\n",
      "\n",
      "Greatest Decrease in Profits: Sep-2013 ($-2196167)\n"
     ]
    }
   ],
   "source": [
    "\"\"\"\n",
    "Prints the final analysis\n",
    "\"\"\"\n",
    "\n",
    "\n",
    "print(\"Financial Analysis\\n\\n----------------------------\")\n",
    "print(f\"\\nTotal Months: {total_months}\")\n",
    "print(f\"\\nTotal: ${total_rev}\")\n",
    "print(f\"\\nAverage Change: ${formated_average}\")\n",
    "print(f\"\\nGreatest Increase in Profits: {max_increase_month} (${profit_increase})\")\n",
    "print(f\"\\nGreatest Decrease in Profits: {max_decrease_month} (${profit_decrease})\")"
   ]
  },
  {
   "cell_type": "code",
   "execution_count": 27,
   "id": "44130c09",
   "metadata": {},
   "outputs": [],
   "source": [
    "\"\"\"\n",
    "Exports Text File\n",
    "\"\"\"\n",
    "\n",
    "with open(\"Final_Analysis.txt\", \"w\") as file:\n",
    "    file.write(\n",
    "    \"Financial Analysis\\n\\n----------------------------\" \n",
    "    f\"\\nTotal Months: {total_months}\"\n",
    "    f\"\\nTotal: ${total_rev}\"\n",
    "    f\"\\nAverage Change: ${formated_average}\"\n",
    "    f\"\\nGreatest Increase in Profits: {max_increase_month} (${profit_increase})\"\n",
    "    f\"\\nGreatest Decrease in Profits: {max_decrease_month} (${profit_decrease})\")\n",
    "    "
   ]
  }
 ],
 "metadata": {
  "kernelspec": {
   "display_name": "Python 3 (ipykernel)",
   "language": "python",
   "name": "python3"
  },
  "language_info": {
   "codemirror_mode": {
    "name": "ipython",
    "version": 3
   },
   "file_extension": ".py",
   "mimetype": "text/x-python",
   "name": "python",
   "nbconvert_exporter": "python",
   "pygments_lexer": "ipython3",
   "version": "3.9.12"
  }
 },
 "nbformat": 4,
 "nbformat_minor": 5
}
