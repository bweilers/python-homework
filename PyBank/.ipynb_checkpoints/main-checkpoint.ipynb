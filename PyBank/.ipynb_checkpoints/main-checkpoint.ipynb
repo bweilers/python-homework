{
 "cells": [
  {
   "cell_type": "code",
   "execution_count": 40,
   "id": "6482fef4-f118-439a-99e5-5c9413d2319b",
   "metadata": {},
   "outputs": [],
   "source": [
    "\"\"\"\n",
    "The following code analyzes the financial records of a fictional company\n",
    "Code uses 'csv' library to read the data contained in 'budget_data.csv'\n",
    "\"\"\"\n",
    "\n",
    "\n",
    "import csv"
   ]
  },
  {
   "cell_type": "code",
   "execution_count": 41,
   "id": "d6f3bcb9-8b7f-4f49-994a-89c04e6c2fa2",
   "metadata": {},
   "outputs": [
    {
     "name": "stdout",
     "output_type": "stream",
     "text": [
      "86\n"
     ]
    }
   ],
   "source": [
    "total_months = 0\n",
    "\n",
    "with open(\"budget_data.csv\", mode = 'r') as file:\n",
    "    csvFile = csv.reader(file)\n",
    "    \n",
    "    for line in csvFile:\n",
    "        if line[0][:3] in ['Jan', 'Feb', 'Mar', 'Apr', 'May', 'Jun', 'Jul', 'Aug', 'Sep', 'Oct', 'Nov', 'Dec']:\n",
    "            total_months += 1\n",
    "            \n",
    "print(total_months)"
   ]
  },
  {
   "cell_type": "code",
   "execution_count": null,
   "id": "ded18569-1dca-4820-b020-953842ff6c25",
   "metadata": {},
   "outputs": [],
   "source": []
  },
  {
   "cell_type": "code",
   "execution_count": 42,
   "id": "294b3052-3ab7-41ab-869f-b74ad12c6f30",
   "metadata": {},
   "outputs": [
    {
     "name": "stdout",
     "output_type": "stream",
     "text": [
      "38382578\n"
     ]
    }
   ],
   "source": [
    "total_rev = 0\n",
    "\n",
    "with open(\"budget_data.csv\", mode = 'r') as file:\n",
    "    csvFile = csv.reader(file)\n",
    "\n",
    "    \n",
    "    for line in csvFile:\n",
    "        try: \n",
    "            monthly_rev = int(line[1])\n",
    "            total_rev += monthly_rev\n",
    "        except ValueError:\n",
    "            pass\n",
    "\n",
    "print(total_rev)        "
   ]
  },
  {
   "cell_type": "code",
   "execution_count": 43,
   "id": "3a593ff2-ba8f-4b41-bd9a-9e956aa0a163",
   "metadata": {},
   "outputs": [
    {
     "name": "stdout",
     "output_type": "stream",
     "text": [
      "['Jan-2010', 'Feb-2010', 'Mar-2010', 'Apr-2010', 'May-2010', 'Jun-2010', 'Jul-2010', 'Aug-2010', 'Sep-2010', 'Oct-2010', 'Nov-2010', 'Dec-2010', 'Jan-2011', 'Feb-2011', 'Mar-2011', 'Apr-2011', 'May-2011', 'Jun-2011', 'Jul-2011', 'Aug-2011', 'Sep-2011', 'Oct-2011', 'Nov-2011', 'Dec-2011', 'Jan-2012', 'Feb-2012', 'Mar-2012', 'Apr-2012', 'May-2012', 'Jun-2012', 'Jul-2012', 'Aug-2012', 'Sep-2012', 'Oct-2012', 'Nov-2012', 'Dec-2012', 'Jan-2013', 'Feb-2013', 'Mar-2013', 'Apr-2013', 'May-2013', 'Jun-2013', 'Jul-2013', 'Aug-2013', 'Sep-2013', 'Oct-2013', 'Nov-2013', 'Dec-2013', 'Jan-2014', 'Feb-2014', 'Mar-2014', 'Apr-2014', 'May-2014', 'Jun-2014', 'Jul-2014', 'Aug-2014', 'Sep-2014', 'Oct-2014', 'Nov-2014', 'Dec-2014', 'Jan-2015', 'Feb-2015', 'Mar-2015', 'Apr-2015', 'May-2015', 'Jun-2015', 'Jul-2015', 'Aug-2015', 'Sep-2015', 'Oct-2015', 'Nov-2015', 'Dec-2015', 'Jan-2016', 'Feb-2016', 'Mar-2016', 'Apr-2016', 'May-2016', 'Jun-2016', 'Jul-2016', 'Aug-2016', 'Sep-2016', 'Oct-2016', 'Nov-2016', 'Dec-2016', 'Jan-2017', 'Feb-2017']\n",
      "[867884, 984655, 322013, -69417, 310503, 522857, 1033096, 604885, -216386, 477532, 893810, -80353, 779806, -335203, 697845, 793163, 485070, 584122, 62729, 668179, 899906, 834719, 132003, 309978, -755566, 1170593, 252788, 1151518, 817256, 570757, 506702, -1022534, 475062, 779976, 144175, 542494, 359333, 321469, 67780, 471435, 565603, 872480, 789480, 999942, -1196225, 268997, -687986, 1150461, 682458, 617856, 824098, 581943, 132864, 448062, 689161, 800701, 1166643, 947333, 578668, 988505, 1139715, 1029471, 687533, -524626, 158620, 87795, 423389, 840723, 568529, 332067, 989499, 778237, 650000, -1100387, -174946, 757143, 445709, 712961, -1163797, 569899, 768450, 102685, 795914, 60988, 138230, 671099]\n"
     ]
    }
   ],
   "source": [
    "month_list = []\n",
    "profit_loss_list = []\n",
    "\n",
    "\n",
    "\n",
    "with open(\"budget_data.csv\", mode = 'r') as file:\n",
    "    csvFile = csv.reader(file)\n",
    "\n",
    "    for line in csvFile:\n",
    "        if line[0][:3] in ['Jan', 'Feb', 'Mar', 'Apr', 'May', 'Jun', 'Jul', 'Aug', 'Sep', 'Oct', 'Nov', 'Dec']:\n",
    "            month_list.append(line[0])\n",
    "        try: \n",
    "            monthly_rev = int(line[1])\n",
    "            profit_loss_list.append(monthly_rev)\n",
    "        except ValueError:\n",
    "            pass        \n",
    "\n",
    "print(month_list)\n",
    "print(profit_loss_list)\n",
    "\n",
    "#now that I have values in a list\n",
    "##compar changes\n",
    "###pull the anwswers using the index"
   ]
  },
  {
   "cell_type": "code",
   "execution_count": 53,
   "id": "b37db90d-4496-47f7-b605-e83653dfd7c5",
   "metadata": {},
   "outputs": [
    {
     "name": "stdout",
     "output_type": "stream",
     "text": [
      "[867884, 116771, -662642, -391430, 379920, 212354, 510239, -428211, -821271, 693918, 416278, -974163, 860159, -1115009, 1033048, 95318, -308093, 99052, -521393, 605450, 231727, -65187, -702716, 177975, -1065544, 1926159, -917805, 898730, -334262, -246499, -64055, -1529236, 1497596, 304914, -635801, 398319, -183161, -37864, -253689, 403655, 94168, 306877, -83000, 210462, -2196167, 1465222, -956983, 1838447, -468003, -64602, 206242, -242155, -449079, 315198, 241099, 111540, 365942, -219310, -368665, 409837, 151210, -110244, -341938, -1212159, 683246, -70825, 335594, 417334, -272194, -236462, 657432, -211262, -128237, -1750387, 925441, 932089, -311434, 267252, -1876758, 1733696, 198551, -665765, 693229, -734926, 77242, 532869]\n",
      "86\n",
      "86\n"
     ]
    }
   ],
   "source": [
    "previous_month = [0] + profit_loss_list\n",
    "index = 0\n",
    "# print(previous_month)\n",
    "\n",
    "change_month_to_month = []\n",
    "\n",
    "for month in profit_loss_list:\n",
    "    change = month - previous_month[index]\n",
    "    change_month_to_month.append(change)\n",
    "    index += 1\n",
    "\n",
    "\n",
    "    \n",
    "# for month in range(len(profit_loss_list)):    \n",
    "\n",
    "\n",
    "\n",
    "# for figure in profit_loss_list:\n",
    "#     change = profit_loss_list[index] - profit_loss_list[index - 1]\n",
    "#     change_month_to_month.append(change)\n",
    "#     index += 1\n",
    "\n",
    "# for figure in range(len(profit_loss_list)):\n",
    "#     change = profit_loss_list[index] - profit_loss_list[index - 1]\n",
    "#     change_month_to_month.append(change)\n",
    "#     index += 1\n",
    "    \n",
    "print(change_month_to_month)\n",
    "print(len(profit_loss_list))\n",
    "print(len(change_month_to_month))\n",
    "                    "
   ]
  },
  {
   "cell_type": "code",
   "execution_count": 78,
   "id": "f26fa5a7-c333-4977-a46b-7fdd584a4aa3",
   "metadata": {},
   "outputs": [
    {
     "name": "stdout",
     "output_type": "stream",
     "text": [
      "-2315.12\n"
     ]
    }
   ],
   "source": [
    "#Average Change\n",
    "total = 0\n",
    "\n",
    "for month in change_month_to_month[1:]:\n",
    "    total += month\n",
    "\n",
    "average_change = total/(len(change_month_to_month)-1)\n",
    "formated_average = \"{:.2f}\".format(average_change)\n",
    "print(formated_average)"
   ]
  },
  {
   "cell_type": "code",
   "execution_count": 75,
   "id": "31982c8c-0d55-4aac-8260-0fcf301f79c7",
   "metadata": {},
   "outputs": [
    {
     "name": "stdout",
     "output_type": "stream",
     "text": [
      "1926159\n"
     ]
    }
   ],
   "source": [
    "#Greatest Increase\n",
    "\n",
    "profit_increase = max(change_month_to_month)\n",
    "print(profit_increase)\n",
    "\n",
    "#Pull the monthy by corresponding index\n",
    "max_increase_index = change_month_to_month.index(profit_increase)\n",
    "max_increase_month = month_list[max_increase_index]"
   ]
  },
  {
   "cell_type": "code",
   "execution_count": 76,
   "id": "2f72b6e7-370c-4dee-a8a3-abe9053fffbe",
   "metadata": {},
   "outputs": [
    {
     "name": "stdout",
     "output_type": "stream",
     "text": [
      "-2196167\n"
     ]
    }
   ],
   "source": [
    "#Greatest Decrease\n",
    "\n",
    "profit_decrease = min(change_month_to_month)\n",
    "print(profit_decrease)\n",
    "\n",
    "#Pull the monthy by corresponding index\n",
    "max_decrease_index = change_month_to_month.index(profit_decrease)\n",
    "max_decrease_month = month_list[max_decrease_index]"
   ]
  },
  {
   "cell_type": "code",
   "execution_count": 81,
   "id": "5ce06fbc-fd85-4939-9fe2-e46ab9b6541a",
   "metadata": {},
   "outputs": [
    {
     "name": "stdout",
     "output_type": "stream",
     "text": [
      "Financial Analysis\n",
      "\n",
      "----------------------------\n",
      "\n",
      "Total Months: 86\n",
      "\n",
      "Total: $38382578\n",
      "\n",
      "Average Change: $-2315.12\n",
      "\n",
      "Greatest Increase in Profits: Feb-2012 ($1926159)\n",
      "\n",
      "Greatest Decrease in Profits: Sep-2013 ($-2196167)\n"
     ]
    }
   ],
   "source": [
    "print(\"Financial Analysis\\n\\n----------------------------\")\n",
    "print(f\"\\nTotal Months: {total_months}\")\n",
    "print(f\"\\nTotal: ${total_rev}\")\n",
    "print(f\"\\nAverage Change: ${formated_average}\")\n",
    "print(f\"\\nGreatest Increase in Profits: {max_increase_month} (${profit_increase})\")\n",
    "print(f\"\\nGreatest Decrease in Profits: {max_decrease_month} (${profit_decrease})\")"
   ]
  },
  {
   "cell_type": "code",
   "execution_count": null,
   "id": "687de783-2357-43f0-8e43-4cd87c3c3332",
   "metadata": {},
   "outputs": [],
   "source": []
  }
 ],
 "metadata": {
  "kernelspec": {
   "display_name": "Python 3 (ipykernel)",
   "language": "python",
   "name": "python3"
  },
  "language_info": {
   "codemirror_mode": {
    "name": "ipython",
    "version": 3
   },
   "file_extension": ".py",
   "mimetype": "text/x-python",
   "name": "python",
   "nbconvert_exporter": "python",
   "pygments_lexer": "ipython3",
   "version": "3.9.12"
  }
 },
 "nbformat": 4,
 "nbformat_minor": 5
}
